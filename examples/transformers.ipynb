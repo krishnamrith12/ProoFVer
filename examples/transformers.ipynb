{
 "cells": [
  {
   "cell_type": "markdown",
   "metadata": {},
   "source": [
    "# GENRE for fairseq\n",
    "\n",
    "First make sure that you have [transformers](https://github.com/huggingface/transformers) >=4.0.0 installed. \n",
    "\n",
    "\n",
    "## Entity Disambiguation\n",
    "Download one of the pre-trained models:\n",
    "\n",
    "| Training Dataset | Model |\n",
    "| -------- | -------- |\n",
    "| BLINK | [hf_entity_disambiguation_blink](http://dl.fbaipublicfiles.com/GENRE/hf_entity_disambiguation_blink.tar.gz)|\n",
    "| BLINK + AidaYago2 | [hf_entity_disambiguation_aidayago](http://dl.fbaipublicfiles.com/GENRE/hf_entity_disambiguation_aidayago.tar.gz)|\n",
    "\n",
    "as well as the prefix tree from KILT Wikipedia titles ([kilt_titles_trie.pkl](http://dl.fbaipublicfiles.com/GENRE/kilt_titles_trie.pkl)).\n",
    "\n",
    "Then load the trie and define the function to apply the constraints with the entities trie"
   ]
  },
  {
   "cell_type": "code",
   "execution_count": 1,
   "metadata": {},
   "outputs": [],
   "source": [
    "import pickle\n",
    "\n",
    "with open(\"data/kilt_titles_trie.pkl\", \"rb\") as f:\n",
    "    trie = pickle.load(f)\n",
    "\n",
    "def prefix_allowed_tokens_fn(batch_id, sent):\n",
    "    return trie.get(sent.tolist())"
   ]
  },
  {
   "cell_type": "markdown",
   "metadata": {},
   "source": [
    "Then, load the model"
   ]
  },
  {
   "cell_type": "code",
   "execution_count": 2,
   "metadata": {},
   "outputs": [],
   "source": [
    "from transformers import BartForConditionalGeneration, BartTokenizer\n",
    "tokenizer = BartTokenizer.from_pretrained(\"models/hf_entity_disambiguation_aidayago\")\n",
    "model = BartForConditionalGeneration.from_pretrained(\"models/hf_entity_disambiguation_aidayago\").eval()"
   ]
  },
  {
   "cell_type": "markdown",
   "metadata": {},
   "source": [
    "and simply use `.generate` to make predictions constraining using `prefix_allowed_tokens_fn`"
   ]
  },
  {
   "cell_type": "code",
   "execution_count": 3,
   "metadata": {},
   "outputs": [
    {
     "data": {
      "text/plain": [
       "['Neil Armstrong',\n",
       " 'William Armstrong',\n",
       " 'Scott Armstrong',\n",
       " 'Arthur Armstrong',\n",
       " 'Rob Armstrong']"
      ]
     },
     "execution_count": 3,
     "metadata": {},
     "output_type": "execute_result"
    }
   ],
   "source": [
    "sentences = [\"[START_ENT] Armstrong [END_ENT] was the first man on the Moon.\"]\n",
    "\n",
    "input_args = {\n",
    "    k: v.to(model.device) for k, v in tokenizer.batch_encode_plus(\n",
    "        sentences,\n",
    "        padding=True,\n",
    "        return_tensors=\"pt\"\n",
    "    ).items()\n",
    "}\n",
    "\n",
    "tokenizer.batch_decode(\n",
    "    model.generate(\n",
    "        **input_args,\n",
    "        min_length=0,\n",
    "        num_beams=5,\n",
    "        num_return_sequences=5,\n",
    "        prefix_allowed_tokens_fn=prefix_allowed_tokens_fn,\n",
    "    ),\n",
    "    skip_special_tokens=True\n",
    ")"
   ]
  },
  {
   "cell_type": "markdown",
   "metadata": {},
   "source": [
    "## Document Retieval\n",
    "Download one of the pre-trained models:\n",
    "\n",
    "| Training Dataset | Models |\n",
    "| -------- | -------- |\n",
    "| KILT | [hf_wikipage_retrieval](http://dl.fbaipublicfiles.com/GENRE/hf_wikipage_retrieval.tar.gz)|\n",
    "\n",
    "Then, load the model"
   ]
  },
  {
   "cell_type": "code",
   "execution_count": 4,
   "metadata": {},
   "outputs": [],
   "source": [
    "tokenizer = BartTokenizer.from_pretrained(\"models/hf_wikipage_retrieval\")\n",
    "model = BartForConditionalGeneration.from_pretrained(\"models/hf_wikipage_retrieval\").eval()"
   ]
  },
  {
   "cell_type": "markdown",
   "metadata": {},
   "source": [
    "and simply use `.sample` to make predictions constraining using `prefix_allowed_tokens_fn`"
   ]
  },
  {
   "cell_type": "code",
   "execution_count": 5,
   "metadata": {},
   "outputs": [
    {
     "data": {
      "text/plain": [
       "['Neil Armstrong', 'Apollo 11', 'Astronaut', 'Buzz Aldrin', 'Apollo 17']"
      ]
     },
     "execution_count": 5,
     "metadata": {},
     "output_type": "execute_result"
    }
   ],
   "source": [
    "sentences = [\"Armstrong was the first man on the Moon.\"]\n",
    "\n",
    "input_args = {\n",
    "    k: v.to(model.device) for k, v in tokenizer.batch_encode_plus(\n",
    "        sentences,\n",
    "        return_tensors=\"pt\"\n",
    "    ).items()\n",
    "}\n",
    "\n",
    "tokenizer.batch_decode(\n",
    "    model.generate(\n",
    "        **input_args,\n",
    "        min_length=0,\n",
    "        num_beams=5,\n",
    "        num_return_sequences=5,\n",
    "        prefix_allowed_tokens_fn=prefix_allowed_tokens_fn,\n",
    "    ),\n",
    "    skip_special_tokens=True\n",
    ")"
   ]
  },
  {
   "cell_type": "markdown",
   "metadata": {},
   "source": [
    "## End-to-End Entity Linking\n",
    "\n",
    "Download one of the pre-trained models:\n",
    "\n",
    "| Training Dataset | Models |\n",
    "| -------- | -------- |\n",
    "| WIKIPEDIA | [hf_e2e_entity_linking_wiki_abs](http://dl.fbaipublicfiles.com/GENRE/hf_e2e_entity_linking_wiki_abs.tar.gz)|\n",
    "| WIKIPEDIA + AidaYago2 | [hf_e2e_entity_linking_aidayago](http://dl.fbaipublicfiles.com/GENRE/hf_e2e_entity_linking_aidayago.tar.gz)|\n",
    "\n",
    "Then, load the model"
   ]
  },
  {
   "cell_type": "code",
   "execution_count": 6,
   "metadata": {},
   "outputs": [],
   "source": [
    "tokenizer = BartTokenizer.from_pretrained(\"models/hf_e2e_entity_linking_wiki_abs\")\n",
    "model = BartForConditionalGeneration.from_pretrained(\"models/hf_e2e_entity_linking_wiki_abs\").eval()"
   ]
  },
  {
   "cell_type": "markdown",
   "metadata": {},
   "source": [
    "and \n",
    "1. get the `prefix_allowed_tokens_fn` with the only constraints to annotate the original sentence (i.e., no other constrains on mention nor candidates)\n",
    "2. use `.sample` to make predictions constraining using `prefix_allowed_tokens_fn`"
   ]
  },
  {
   "cell_type": "code",
   "execution_count": 7,
   "metadata": {},
   "outputs": [
    {
     "data": {
      "text/plain": [
       "['In { 1921 } [ List of Nobel laureates in Physiology or Medicine by year of appointment ], { Einstein } [ Albert Einstein ] received a { Nobel } [ Nobel Prize in Physics ] Prize.',\n",
       " 'In { 1921 } [ List of Nobel laureates in Physiology or Medicine by year of appointment ], { Einstein } [ Albert Einstein ] received a { Nobel } [ Nobel Prize in Physics ] Prize {. } [ Einstein (crater) ]',\n",
       " 'In { 1921 } [ List of Nobel laureates in Physiology or Medicine by year of appointment ], { Einstein } [ Albert Einstein ] received a { Nobel Prize } [ Nobel Prize in Physics ] {. } [ Einstein (crater) ]',\n",
       " 'In { 1921 } [ List of Nobel laureates in Physiology or Medicine by year of appointment ], { Einstein } [ Albert Einstein ] received a { Nobel } [ Nobel Prize in Physics ] Prize {. } [ Doctor of Philosophy ]',\n",
       " 'In { 1921 } [ List of Nobel laureates in Physiology or Medicine by year of appointment ], { Einstein } [ Albert Einstein ] received a { Nobel } [ Nobel Prize in Physics ] Prize {. } [ Max Einstein ]']"
      ]
     },
     "execution_count": 7,
     "metadata": {},
     "output_type": "execute_result"
    }
   ],
   "source": [
    "from genre.entity_linking import get_end_to_end_prefix_allowed_tokens_fn_hf\n",
    "\n",
    "sentences = [\"In 1921, Einstein received a Nobel Prize.\"]\n",
    "\n",
    "input_args = {\n",
    "    k: v.to(model.device) for k, v in tokenizer.batch_encode_plus(\n",
    "        sentences,\n",
    "        return_tensors=\"pt\"\n",
    "    ).items()\n",
    "}\n",
    "\n",
    "prefix_allowed_tokens_fn = get_end_to_end_prefix_allowed_tokens_fn_hf(tokenizer, sentences)\n",
    "\n",
    "tokenizer.batch_decode(\n",
    "    model.generate(\n",
    "        **input_args,\n",
    "        min_length=0,\n",
    "        num_beams=5,\n",
    "        num_return_sequences=5,\n",
    "        prefix_allowed_tokens_fn=prefix_allowed_tokens_fn,\n",
    "    ),\n",
    "    skip_special_tokens=True\n",
    ")"
   ]
  },
  {
   "cell_type": "markdown",
   "metadata": {},
   "source": [
    "You can constrain the mentions with a prefix tree (no constrains on candidates)"
   ]
  },
  {
   "cell_type": "code",
   "execution_count": 8,
   "metadata": {},
   "outputs": [
    {
     "data": {
      "text/plain": [
       "['In 1921, { Einstein } [ Albert Einstein ] received a Nobel Prize.',\n",
       " 'In 1921, { Einstein } [ Einstein (crater) ] received a Nobel Prize.',\n",
       " 'In 1921, { Einstein } [ Albert Albert Einstein ] received a Nobel Prize.',\n",
       " 'In 1921, { Einstein } [Albert Einstein ] received a Nobel Prize.',\n",
       " 'In 1921, { Einstein } [ Max Einstein ] received a Nobel Prize.']"
      ]
     },
     "execution_count": 8,
     "metadata": {},
     "output_type": "execute_result"
    }
   ],
   "source": [
    "from genre.trie import Trie\n",
    "\n",
    "prefix_allowed_tokens_fn = get_end_to_end_prefix_allowed_tokens_fn_hf(\n",
    "    tokenizer,\n",
    "    sentences,\n",
    "    mention_trie=Trie([\n",
    "        tokenizer.encode(\" {}\".format(e))[1:]\n",
    "        for e in [\"Einstein\"]\n",
    "    ]),\n",
    ")\n",
    "\n",
    "tokenizer.batch_decode(\n",
    "    model.generate(\n",
    "        **input_args,\n",
    "        min_length=0,\n",
    "        num_beams=5,\n",
    "        num_return_sequences=5,\n",
    "        prefix_allowed_tokens_fn=prefix_allowed_tokens_fn,\n",
    "    ),\n",
    "    skip_special_tokens=True\n",
    ")"
   ]
  },
  {
   "cell_type": "markdown",
   "metadata": {},
   "source": [
    "You can constrain the candidates with a prefix tree (no constrains on mentions)"
   ]
  },
  {
   "cell_type": "code",
   "execution_count": 9,
   "metadata": {},
   "outputs": [
    {
     "data": {
      "text/plain": [
       "['In 1921, { Einstein } [ Albert Einstein ] received a { Nobel Prize. } [ Nobel Prize in Physics ]',\n",
       " 'In 1921, { Einstein } [ Albert Einstein ] received a { Nobel } [ Nobel Prize in Physics ] Prize.',\n",
       " 'In 1921, { Einstein } [ Albert Einstein ] received a { Nobel Prize } [ Nobel Prize in Physics ] {. } [ NIL ]',\n",
       " 'In 1921, { Einstein } [ Albert Einstein ] received a { Nobel } [ Nobel Prize in Physics ] Prize {. } [ NIL ]',\n",
       " 'In 1921, { Einstein } [ Albert Einstein ] { received } [ Nobel Prize in Physics ] a { Nobel Prize. } [ NIL ]']"
      ]
     },
     "execution_count": 9,
     "metadata": {},
     "output_type": "execute_result"
    }
   ],
   "source": [
    "prefix_allowed_tokens_fn = get_end_to_end_prefix_allowed_tokens_fn_hf(\n",
    "    tokenizer,\n",
    "    sentences,\n",
    "    candidates_trie=Trie([\n",
    "        tokenizer.encode(\" }} [ {} ]\".format(e))[1:]\n",
    "        for e in [\"Albert Einstein\", \"Nobel Prize in Physics\", \"NIL\"]\n",
    "    ])\n",
    ")\n",
    "\n",
    "tokenizer.batch_decode(\n",
    "    model.generate(\n",
    "        **input_args,\n",
    "        min_length=0,\n",
    "        num_beams=5,\n",
    "        num_return_sequences=5,\n",
    "        prefix_allowed_tokens_fn=prefix_allowed_tokens_fn,\n",
    "    ),\n",
    "    skip_special_tokens=True\n",
    ")"
   ]
  },
  {
   "cell_type": "markdown",
   "metadata": {},
   "source": [
    "You can constrain the candidate sets given a mention (no constrains on mentions)"
   ]
  },
  {
   "cell_type": "code",
   "execution_count": 10,
   "metadata": {},
   "outputs": [
    {
     "data": {
      "text/plain": [
       "['In 1921, Einstein received a { Nobel } [ Nobel Prize in Physics ] Prize.',\n",
       " 'In 1921, { Einstein } [ Einstein ] received a { Nobel } [ Nobel Prize in Physics ] Prize.',\n",
       " 'In 1921, { Einstein } [ Einstein ] received a { Nobel } [ Nobel Prize in Physics ] Prize {. } [ NIL ]',\n",
       " 'In 1921, { Einstein } [ Einstein ] received a { Nobel } [ Nobel Prize in Physics ] { Prize. } [ NIL ]',\n",
       " 'In 1921, { Einstein } [ Einstein ] received a { Nobel } [ Nobel Prize in Physics ] { Prize } [ NIL ].']"
      ]
     },
     "execution_count": 10,
     "metadata": {},
     "output_type": "execute_result"
    }
   ],
   "source": [
    "prefix_allowed_tokens_fn = get_end_to_end_prefix_allowed_tokens_fn_hf(\n",
    "    tokenizer,\n",
    "    sentences,\n",
    "    mention_to_candidates_dict={\n",
    "        \"Einstein\": [\"Einstein\"],\n",
    "        \"Nobel\": [\"Nobel Prize in Physics\"],\n",
    "    }\n",
    ")\n",
    "\n",
    "tokenizer.batch_decode(\n",
    "    model.generate(\n",
    "        **input_args,\n",
    "        min_length=0,\n",
    "        num_beams=5,\n",
    "        num_return_sequences=5,\n",
    "        prefix_allowed_tokens_fn=prefix_allowed_tokens_fn,\n",
    "    ),\n",
    "    skip_special_tokens=True\n",
    ")"
   ]
  },
  {
   "cell_type": "markdown",
   "metadata": {},
   "source": [
    "A combiation of these constraints is also possible"
   ]
  },
  {
   "cell_type": "code",
   "execution_count": 11,
   "metadata": {},
   "outputs": [
    {
     "data": {
      "text/plain": [
       "['In 1921, { Einstein } [ Albert Einstein ] received a Nobel Prize.',\n",
       " 'In 1921, Einstein received a { Nobel Prize } [ Nobel Prize in Physics ].',\n",
       " 'In 1921, Einstein received a { Nobel Prize } [ Nobel Prize in Medicine ].',\n",
       " 'In 1921, Einstein received a Nobel Prize.',\n",
       " 'In 1921, Einstein received a Nobel Prize.']"
      ]
     },
     "execution_count": 11,
     "metadata": {},
     "output_type": "execute_result"
    }
   ],
   "source": [
    "prefix_allowed_tokens_fn = get_end_to_end_prefix_allowed_tokens_fn_hf(\n",
    "    tokenizer,\n",
    "    sentences,\n",
    "    mention_trie=Trie([\n",
    "        tokenizer.encode(\" {}\".format(e))[1:]\n",
    "        for e in [\"Einstein\", \"Nobel Prize\"]\n",
    "    ]),\n",
    "    mention_to_candidates_dict={\n",
    "        \"Einstein\": [\"Albert Einstein\", \"Einstein (surname)\"],\n",
    "        \"Nobel Prize\": [\"Nobel Prize in Physics\", \"Nobel Prize in Medicine\"],\n",
    "    }\n",
    ")\n",
    "\n",
    "tokenizer.batch_decode(\n",
    "    model.generate(\n",
    "        **input_args,\n",
    "        min_length=0,\n",
    "        num_beams=5,\n",
    "        num_return_sequences=5,\n",
    "        prefix_allowed_tokens_fn=prefix_allowed_tokens_fn,\n",
    "    ),\n",
    "    skip_special_tokens=True\n",
    ")"
   ]
  },
  {
   "cell_type": "markdown",
   "metadata": {},
   "source": [
    "Finally, you can also use some functions from `genre.utils` that wraps pre- and post-processing of strings (e.g., normalization and outputs the character offsets and length of the mentions):"
   ]
  },
  {
   "cell_type": "code",
   "execution_count": 12,
   "metadata": {},
   "outputs": [
    {
     "data": {
      "text/plain": [
       "[[(9, 8, 'Albert_Einstein')]]"
      ]
     },
     "execution_count": 12,
     "metadata": {},
     "output_type": "execute_result"
    }
   ],
   "source": [
    "from genre.utils import get_entity_spans_hf\n",
    "\n",
    "get_entity_spans_hf(\n",
    "    model,\n",
    "    tokenizer,\n",
    "    sentences,\n",
    "    mention_trie=Trie([\n",
    "        tokenizer.encode(\" {}\".format(e))[1:]\n",
    "        for e in [\"Einstein\", \"Nobel Prize\"]\n",
    "    ]),\n",
    "    mention_to_candidates_dict={\n",
    "        \"Einstein\": [\"Albert Einstein\", \"Einstein (surname)\"],\n",
    "        \"Nobel Prize\": [\"Nobel Prize in Physics\", \"Nobel Prize in Medicine\"],\n",
    "    }\n",
    ")"
   ]
  },
  {
   "cell_type": "code",
   "execution_count": 13,
   "metadata": {},
   "outputs": [
    {
     "data": {
      "text/markdown": [
       "In 1921, [Einstein](https://en.wikipedia.org/wiki/Albert_Einstein) received a Nobel Prize."
      ],
      "text/plain": [
       "<IPython.core.display.Markdown object>"
      ]
     },
     "execution_count": 13,
     "metadata": {},
     "output_type": "execute_result"
    }
   ],
   "source": [
    "from genre.utils import get_markdown\n",
    "from IPython.display import Markdown\n",
    "\n",
    "entity_spans = get_entity_spans_hf(\n",
    "    model,\n",
    "    tokenizer,\n",
    "    sentences,\n",
    "    mention_trie=Trie([\n",
    "        tokenizer.encode(\" {}\".format(e))[1:]\n",
    "        for e in [\"Einstein\", \"Nobel Prize\"]\n",
    "    ]),\n",
    "    mention_to_candidates_dict={\n",
    "        \"Einstein\": [\"Albert Einstein\", \"Einstein (surname)\"],\n",
    "        \"Nobel Prize\": [\"Nobel Prize in Physics\", \"Nobel Prize in Medicine\"],\n",
    "    }\n",
    ")\n",
    "\n",
    "Markdown(get_markdown(sentences, entity_spans)[0])"
   ]
  },
  {
   "cell_type": "markdown",
   "metadata": {},
   "source": [
    "## Custom End-to-End Entity Linking evaluation\n",
    "\n",
    "We have some useful function to evaluate End-to-End Entity Linking predictions. Let's suppose we have a `Dict[str, str]` with document IDs and text as well as the gold entites spans as a `List[Tuple[str, int, int, str]]` containing documentID, start offset, length and entity title respectively."
   ]
  },
  {
   "cell_type": "code",
   "execution_count": 14,
   "metadata": {},
   "outputs": [],
   "source": [
    "documents = {\n",
    "    \"id_0\": \"In 1921, Einstein received a Nobel Prize.\",\n",
    "    \"id_1\": \"Armstrong was the first man on the Moon.\",\n",
    "}\n",
    "\n",
    "gold_entities = [\n",
    "    (\"id_0\", 3, 4, \"1921\"),\n",
    "    (\"id_0\", 9, 8, 'Albert_Einstein'),\n",
    "    (\"id_0\", 29, 11, 'Nobel_Prize_in_Physics'),\n",
    "    (\"id_1\", 0, 9, 'Neil_Armstrong'),\n",
    "    (\"id_1\", 35, 4, 'Moon'),\n",
    "]"
   ]
  },
  {
   "cell_type": "markdown",
   "metadata": {},
   "source": [
    "Then we can get preditions and using `get_entity_spans_hf` to have spans. `guess_entities` is then a `List[List[Tuple[int, int, str]]]` containing for each document, a list of entity spans (without the document ID). We further need to add documentIDs to `guess_entities` and remove the nested list to be compatible with `gold_entities`."
   ]
  },
  {
   "cell_type": "code",
   "execution_count": 15,
   "metadata": {},
   "outputs": [],
   "source": [
    "guess_entities = get_entity_spans_hf(\n",
    "    model,\n",
    "    tokenizer,\n",
    "    list(documents.values()),\n",
    ")\n",
    "\n",
    "guess_entities = [\n",
    "    (k,) + x\n",
    "    for k, e in zip(documents.keys(), guess_entities)\n",
    "    for x in e\n",
    "]"
   ]
  },
  {
   "cell_type": "markdown",
   "metadata": {},
   "source": [
    "Finally, we can import all functions from `genre.utils` to compute scores."
   ]
  },
  {
   "cell_type": "code",
   "execution_count": 16,
   "metadata": {},
   "outputs": [],
   "source": [
    "from genre.utils import (\n",
    "    get_micro_precision,\n",
    "    get_micro_recall,\n",
    "    get_micro_f1,\n",
    "    get_macro_precision,\n",
    "    get_macro_recall,\n",
    "    get_macro_f1,\n",
    ")\n",
    "\n",
    "micro_p = get_micro_precision(guess_entities, gold_entities)\n",
    "micro_r = get_micro_recall(guess_entities, gold_entities)\n",
    "micro_f1 = get_micro_f1(guess_entities, gold_entities)\n",
    "macro_p = get_macro_precision(guess_entities, gold_entities)\n",
    "macro_r = get_macro_recall(guess_entities, gold_entities)\n",
    "macro_f1 = get_macro_f1(guess_entities, gold_entities)"
   ]
  },
  {
   "cell_type": "code",
   "execution_count": 17,
   "metadata": {},
   "outputs": [
    {
     "name": "stdout",
     "output_type": "stream",
     "text": [
      "micro_p=0.1429 micro_r=0.2000, micro_f1=0.1667, macro_p=0.1250, macro_r=0.1667, macro_f1=0.1429\n"
     ]
    }
   ],
   "source": [
    "print(\n",
    "   \"micro_p={:.4f} micro_r={:.4f}, micro_f1={:.4f}, macro_p={:.4f}, macro_r={:.4f}, macro_f1={:.4f}\".format(\n",
    "       micro_p, micro_r, micro_f1, macro_p, macro_r, macro_f1\n",
    "   )\n",
    ")"
   ]
  },
  {
   "cell_type": "code",
   "execution_count": 18,
   "metadata": {},
   "outputs": [],
   "source": [
    "assert 1 / 7 == micro_p\n",
    "assert 1 / 5 == micro_r\n",
    "assert 2 * (1 / 7 * 1 / 5) / (1 / 7 + 1 / 5) == micro_f1\n",
    "assert (1 / 4 + 0 / 3) / 2 == macro_p\n",
    "assert (1 / 3 + 0 / 2) / 2 == macro_r\n",
    "assert (2 * (1 / 4 * 1 / 3) / (1 / 4 + 1 / 3) + 0) / 2 == macro_f1"
   ]
  }
 ],
 "metadata": {
  "kernelspec": {
   "display_name": "Python 3",
   "language": "python",
   "name": "python3"
  },
  "language_info": {
   "codemirror_mode": {
    "name": "ipython",
    "version": 3
   },
   "file_extension": ".py",
   "mimetype": "text/x-python",
   "name": "python",
   "nbconvert_exporter": "python",
   "pygments_lexer": "ipython3",
   "version": "3.7.9"
  }
 },
 "nbformat": 4,
 "nbformat_minor": 4
}
