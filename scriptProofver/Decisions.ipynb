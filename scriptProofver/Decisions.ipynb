{
 "cells": [
  {
   "cell_type": "code",
   "execution_count": 1,
   "metadata": {},
   "outputs": [],
   "source": [
    "def stateChecker(statList,startSt = \"S\"):\n",
    "    currState = startSt\n",
    "    \n",
    "    for item in statList:\n",
    "        if currState == \"S\":\n",
    "            if item == \"<\" or item == \"=\":\n",
    "                currState = \"S\"\n",
    "            elif item == \"|\" or item == \"!\":\n",
    "                currState = \"R\"\n",
    "            elif item == \">\" or item == \"#\" or item == \"_\":\n",
    "                currState = \"N\"\n",
    "                \n",
    "            continue\n",
    "        if currState == \"R\":\n",
    "            if item == \">\" or item == \"=\":\n",
    "                currState = \"R\"\n",
    "            elif item == \"!\":\n",
    "                currState = \"S\"\n",
    "            elif item == \"<\" or item == \"|\" or item == \"#\" or item == \"_\":\n",
    "                currState = \"N\"\n",
    "                \n",
    "            continue\n",
    "        \n",
    "        if currState == \"N\":\n",
    "            \n",
    "            currState = \"N\"                \n",
    "            break\n",
    "    \n",
    "    return currState\n",
    "    \n",
    "        "
   ]
  },
  {
   "cell_type": "code",
   "execution_count": 10,
   "metadata": {},
   "outputs": [
    {
     "data": {
      "text/plain": [
       "'R'"
      ]
     },
     "execution_count": 10,
     "metadata": {},
     "output_type": "execute_result"
    }
   ],
   "source": [
    "stateChecker([\"=\",\"<\",\"<\",\"!\",\"!\",\"|\"])"
   ]
  }
 ],
 "metadata": {
  "kernelspec": {
   "display_name": "Python 3",
   "language": "python",
   "name": "python3"
  },
  "language_info": {
   "codemirror_mode": {
    "name": "ipython",
    "version": 3
   },
   "file_extension": ".py",
   "mimetype": "text/x-python",
   "name": "python",
   "nbconvert_exporter": "python",
   "pygments_lexer": "ipython3",
   "version": "3.8.3"
  }
 },
 "nbformat": 4,
 "nbformat_minor": 4
}
